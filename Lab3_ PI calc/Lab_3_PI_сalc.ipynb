{
  "nbformat": 4,
  "nbformat_minor": 0,
  "metadata": {
    "colab": {
      "provenance": [],
      "authorship_tag": "ABX9TyN98V8DNjPqHO7K0OGP2ffr",
      "include_colab_link": true
    },
    "kernelspec": {
      "name": "python3",
      "display_name": "Python 3"
    },
    "language_info": {
      "name": "python"
    },
    "accelerator": "GPU",
    "gpuClass": "standard"
  },
  "cells": [
    {
      "cell_type": "markdown",
      "metadata": {
        "id": "view-in-github",
        "colab_type": "text"
      },
      "source": [
        "<a href=\"https://colab.research.google.com/github/MariaShaiina/hpc-2022/blob/main/Lab3_%20PI%20calc/Lab_3_PI_%D1%81alc.ipynb\" target=\"_parent\"><img src=\"https://colab.research.google.com/assets/colab-badge.svg\" alt=\"Open In Colab\"/></a>"
      ]
    },
    {
      "cell_type": "markdown",
      "source": [
        "\n",
        "# 6132 Шаина Мария"
      ],
      "metadata": {
        "id": "XEF6O-tg9dp7"
      }
    },
    {
      "cell_type": "markdown",
      "source": [
        "### **Calculation of pi value on GPU with Monte-Carlo method using CUDA**"
      ],
      "metadata": {
        "id": "BNbD8lI49kHZ"
      }
    },
    {
      "cell_type": "markdown",
      "source": [
        "Загружаем необходимые библиотеки "
      ],
      "metadata": {
        "id": "P5JpXOU9-YDS"
      }
    },
    {
      "cell_type": "code",
      "source": [
        "import numpy as np\n",
        "from numba import cuda\n",
        "from time import time\n",
        "from numba.cuda.random import create_xoroshiro128p_states, xoroshiro128p_uniform_float32\n",
        "import pandas as pd"
      ],
      "metadata": {
        "id": "HNp24oMi-PVE"
      },
      "execution_count": 1,
      "outputs": []
    },
    {
      "cell_type": "code",
      "source": [
        "TPB = 16                     #TPB - treads_per_block\n",
        "pi_size = 16                 \n",
        "BPG = int(pi_size/TPB)       #BPG - blocks_per_grid"
      ],
      "metadata": {
        "id": "UHhwRTQWryGu"
      },
      "execution_count": 2,
      "outputs": []
    },
    {
      "cell_type": "markdown",
      "source": [
        "Функция подсчета значения Пи на CPU\n",
        "\n"
      ],
      "metadata": {
        "id": "NEfuLIDduZIE"
      }
    },
    {
      "cell_type": "code",
      "source": [
        "def CPU_calc(pi_size, N):\n",
        "    res = np.zeros(pi_size)              \n",
        "    for i in range(pi_size):\n",
        "        x = np.random.uniform(size=N)\n",
        "        y = np.random.uniform(size=N)    \n",
        "        z = x ** 2 + y ** 2 <= 1\n",
        "        res[i] = 4.0 * sum(z) / N\n",
        "    return res"
      ],
      "metadata": {
        "id": "e4C9AZmiuZT7"
      },
      "execution_count": 3,
      "outputs": []
    },
    {
      "cell_type": "markdown",
      "source": [
        "Ядро для GPU"
      ],
      "metadata": {
        "id": "eVdpZgBfuZu5"
      }
    },
    {
      "cell_type": "code",
      "source": [
        "@cuda.jit\n",
        "def pi_calcul(res, rng):\n",
        "  i = cuda.blockIdx.x * cuda.blockDim.x + cuda.threadIdx.x\n",
        "  h = 0\n",
        "  if i < len(rng):\n",
        "    x = xoroshiro128p_uniform_float32(rng, i)\n",
        "    y = xoroshiro128p_uniform_float32(rng, i)\n",
        "    if x ** 2 + y ** 2 <= 1.0:\n",
        "      h += 1\n",
        "  cuda.atomic.add(res, 0, h)\n",
        "\n",
        "  "
      ],
      "metadata": {
        "id": "uCpfaH_FuZ1F"
      },
      "execution_count": 4,
      "outputs": []
    },
    {
      "cell_type": "markdown",
      "source": [
        "Функция, выполняющая вычисление значения Пи на GPU"
      ],
      "metadata": {
        "id": "pfvhozJwu0-5"
      }
    },
    {
      "cell_type": "code",
      "source": [
        "def GPU_calc(N):\n",
        "\n",
        "  # create_xoroshiro128p_states - для генерации случайного массива на CUDA\n",
        "  rng_states = create_xoroshiro128p_states(N, seed=1)\n",
        "  res = [0]\n",
        "\n",
        "  dev_res = cuda.to_device(res)\n",
        "  pi_calcul[N, TPB](dev_res, rng_states)\n",
        "  tmp_ = dev_res.copy_to_host()\n",
        "  pi_ = 4 * tmp_[0] / N\n",
        "  return pi_"
      ],
      "metadata": {
        "id": "ixn6AdM5u69z"
      },
      "execution_count": 5,
      "outputs": []
    },
    {
      "cell_type": "code",
      "source": [
        "# 10 итераций подсчета числа Пи с увеличением значения N на 10000 после каждой итерации\n",
        "iteration_count = np.arange(1,11,1)\n",
        "N = 10000\n",
        "\n",
        "df = {\"Время на GPU\":np.zeros(len(iteration_count), dtype=float), \n",
        "      \"Время на CPU\":np.zeros(len(iteration_count), dtype=float),\n",
        "      \"Пи на GPU\":np.zeros(len(iteration_count), dtype=float),\n",
        "      \"Пи на CPU\":np.zeros(len(iteration_count), dtype=float),\n",
        "      \"Ускорение\":np.zeros(len(iteration_count), dtype=float),\n",
        "      \"Кол-во точек\": np.zeros(len(iteration_count), dtype=int)}\n",
        "\n",
        "df = pd.DataFrame(df, index=iteration_count)\n",
        "\n",
        "for i in iteration_count:\n",
        "  cpu_start = time()\n",
        "  cpu_pi = CPU_calc(pi_size, N).mean()\n",
        "  cpu_time = time() - cpu_start\n",
        "\n",
        "  gpu_start = time()\n",
        "  gpu_pi = GPU_calc(N)\n",
        "  gpu_time = time() - gpu_start\n",
        "    \n",
        "  df.loc[i, \"Время на GPU\"] = gpu_time\n",
        "  df.loc[i, \"Время на CPU\"] = cpu_time\n",
        "  df.loc[i, \"Пи на GPU\"] = gpu_pi\n",
        "  df.loc[i, \"Пи на CPU\"] = cpu_pi\n",
        "  df[\"Ускорение\"] = df[\"Время на CPU\"] / df[\"Время на GPU\"]\n",
        "  df.loc[i, \"Кол-во точек\"] = N\n",
        "\n",
        "  N += 10000\n",
        "\n",
        "df"
      ],
      "metadata": {
        "colab": {
          "base_uri": "https://localhost:8080/",
          "height": 359
        },
        "id": "aHsASqLB2reu",
        "outputId": "94970999-595f-41d0-c61d-7233b3791e07"
      },
      "execution_count": 6,
      "outputs": [
        {
          "output_type": "execute_result",
          "data": {
            "text/plain": [
              "    Время на GPU  Время на CPU  Пи на GPU  Пи на CPU   Ускорение  Кол-во точек\n",
              "1       3.519468      0.526908   3.155200   3.143050    0.149712         10000\n",
              "2       0.011912      1.360312   3.157800   3.139638  114.198010         20000\n",
              "3       0.075046      2.279797   3.150800   3.141475   30.378640         30000\n",
              "4       0.020915      3.798893   3.147100   3.139475  181.638734         40000\n",
              "5       0.031536      4.962492   3.143040   3.147735  157.360275         50000\n",
              "6       0.017329      2.670311   3.147067   3.140267  154.090913         60000\n",
              "7       0.019575      2.129305   3.147543   3.144546  108.776077         70000\n",
              "8       0.029769      2.325678   3.147450   3.140713   78.124925         80000\n",
              "9       0.025633      2.610164   3.145378   3.140169  101.829766         90000\n",
              "10      0.028978      2.961246   3.143720   3.141620  102.189061        100000"
            ],
            "text/html": [
              "\n",
              "  <div id=\"df-b98178ab-397a-4af5-9ca2-a5a40abdf12b\">\n",
              "    <div class=\"colab-df-container\">\n",
              "      <div>\n",
              "<style scoped>\n",
              "    .dataframe tbody tr th:only-of-type {\n",
              "        vertical-align: middle;\n",
              "    }\n",
              "\n",
              "    .dataframe tbody tr th {\n",
              "        vertical-align: top;\n",
              "    }\n",
              "\n",
              "    .dataframe thead th {\n",
              "        text-align: right;\n",
              "    }\n",
              "</style>\n",
              "<table border=\"1\" class=\"dataframe\">\n",
              "  <thead>\n",
              "    <tr style=\"text-align: right;\">\n",
              "      <th></th>\n",
              "      <th>Время на GPU</th>\n",
              "      <th>Время на CPU</th>\n",
              "      <th>Пи на GPU</th>\n",
              "      <th>Пи на CPU</th>\n",
              "      <th>Ускорение</th>\n",
              "      <th>Кол-во точек</th>\n",
              "    </tr>\n",
              "  </thead>\n",
              "  <tbody>\n",
              "    <tr>\n",
              "      <th>1</th>\n",
              "      <td>3.519468</td>\n",
              "      <td>0.526908</td>\n",
              "      <td>3.155200</td>\n",
              "      <td>3.143050</td>\n",
              "      <td>0.149712</td>\n",
              "      <td>10000</td>\n",
              "    </tr>\n",
              "    <tr>\n",
              "      <th>2</th>\n",
              "      <td>0.011912</td>\n",
              "      <td>1.360312</td>\n",
              "      <td>3.157800</td>\n",
              "      <td>3.139638</td>\n",
              "      <td>114.198010</td>\n",
              "      <td>20000</td>\n",
              "    </tr>\n",
              "    <tr>\n",
              "      <th>3</th>\n",
              "      <td>0.075046</td>\n",
              "      <td>2.279797</td>\n",
              "      <td>3.150800</td>\n",
              "      <td>3.141475</td>\n",
              "      <td>30.378640</td>\n",
              "      <td>30000</td>\n",
              "    </tr>\n",
              "    <tr>\n",
              "      <th>4</th>\n",
              "      <td>0.020915</td>\n",
              "      <td>3.798893</td>\n",
              "      <td>3.147100</td>\n",
              "      <td>3.139475</td>\n",
              "      <td>181.638734</td>\n",
              "      <td>40000</td>\n",
              "    </tr>\n",
              "    <tr>\n",
              "      <th>5</th>\n",
              "      <td>0.031536</td>\n",
              "      <td>4.962492</td>\n",
              "      <td>3.143040</td>\n",
              "      <td>3.147735</td>\n",
              "      <td>157.360275</td>\n",
              "      <td>50000</td>\n",
              "    </tr>\n",
              "    <tr>\n",
              "      <th>6</th>\n",
              "      <td>0.017329</td>\n",
              "      <td>2.670311</td>\n",
              "      <td>3.147067</td>\n",
              "      <td>3.140267</td>\n",
              "      <td>154.090913</td>\n",
              "      <td>60000</td>\n",
              "    </tr>\n",
              "    <tr>\n",
              "      <th>7</th>\n",
              "      <td>0.019575</td>\n",
              "      <td>2.129305</td>\n",
              "      <td>3.147543</td>\n",
              "      <td>3.144546</td>\n",
              "      <td>108.776077</td>\n",
              "      <td>70000</td>\n",
              "    </tr>\n",
              "    <tr>\n",
              "      <th>8</th>\n",
              "      <td>0.029769</td>\n",
              "      <td>2.325678</td>\n",
              "      <td>3.147450</td>\n",
              "      <td>3.140713</td>\n",
              "      <td>78.124925</td>\n",
              "      <td>80000</td>\n",
              "    </tr>\n",
              "    <tr>\n",
              "      <th>9</th>\n",
              "      <td>0.025633</td>\n",
              "      <td>2.610164</td>\n",
              "      <td>3.145378</td>\n",
              "      <td>3.140169</td>\n",
              "      <td>101.829766</td>\n",
              "      <td>90000</td>\n",
              "    </tr>\n",
              "    <tr>\n",
              "      <th>10</th>\n",
              "      <td>0.028978</td>\n",
              "      <td>2.961246</td>\n",
              "      <td>3.143720</td>\n",
              "      <td>3.141620</td>\n",
              "      <td>102.189061</td>\n",
              "      <td>100000</td>\n",
              "    </tr>\n",
              "  </tbody>\n",
              "</table>\n",
              "</div>\n",
              "      <button class=\"colab-df-convert\" onclick=\"convertToInteractive('df-b98178ab-397a-4af5-9ca2-a5a40abdf12b')\"\n",
              "              title=\"Convert this dataframe to an interactive table.\"\n",
              "              style=\"display:none;\">\n",
              "        \n",
              "  <svg xmlns=\"http://www.w3.org/2000/svg\" height=\"24px\"viewBox=\"0 0 24 24\"\n",
              "       width=\"24px\">\n",
              "    <path d=\"M0 0h24v24H0V0z\" fill=\"none\"/>\n",
              "    <path d=\"M18.56 5.44l.94 2.06.94-2.06 2.06-.94-2.06-.94-.94-2.06-.94 2.06-2.06.94zm-11 1L8.5 8.5l.94-2.06 2.06-.94-2.06-.94L8.5 2.5l-.94 2.06-2.06.94zm10 10l.94 2.06.94-2.06 2.06-.94-2.06-.94-.94-2.06-.94 2.06-2.06.94z\"/><path d=\"M17.41 7.96l-1.37-1.37c-.4-.4-.92-.59-1.43-.59-.52 0-1.04.2-1.43.59L10.3 9.45l-7.72 7.72c-.78.78-.78 2.05 0 2.83L4 21.41c.39.39.9.59 1.41.59.51 0 1.02-.2 1.41-.59l7.78-7.78 2.81-2.81c.8-.78.8-2.07 0-2.86zM5.41 20L4 18.59l7.72-7.72 1.47 1.35L5.41 20z\"/>\n",
              "  </svg>\n",
              "      </button>\n",
              "      \n",
              "  <style>\n",
              "    .colab-df-container {\n",
              "      display:flex;\n",
              "      flex-wrap:wrap;\n",
              "      gap: 12px;\n",
              "    }\n",
              "\n",
              "    .colab-df-convert {\n",
              "      background-color: #E8F0FE;\n",
              "      border: none;\n",
              "      border-radius: 50%;\n",
              "      cursor: pointer;\n",
              "      display: none;\n",
              "      fill: #1967D2;\n",
              "      height: 32px;\n",
              "      padding: 0 0 0 0;\n",
              "      width: 32px;\n",
              "    }\n",
              "\n",
              "    .colab-df-convert:hover {\n",
              "      background-color: #E2EBFA;\n",
              "      box-shadow: 0px 1px 2px rgba(60, 64, 67, 0.3), 0px 1px 3px 1px rgba(60, 64, 67, 0.15);\n",
              "      fill: #174EA6;\n",
              "    }\n",
              "\n",
              "    [theme=dark] .colab-df-convert {\n",
              "      background-color: #3B4455;\n",
              "      fill: #D2E3FC;\n",
              "    }\n",
              "\n",
              "    [theme=dark] .colab-df-convert:hover {\n",
              "      background-color: #434B5C;\n",
              "      box-shadow: 0px 1px 3px 1px rgba(0, 0, 0, 0.15);\n",
              "      filter: drop-shadow(0px 1px 2px rgba(0, 0, 0, 0.3));\n",
              "      fill: #FFFFFF;\n",
              "    }\n",
              "  </style>\n",
              "\n",
              "      <script>\n",
              "        const buttonEl =\n",
              "          document.querySelector('#df-b98178ab-397a-4af5-9ca2-a5a40abdf12b button.colab-df-convert');\n",
              "        buttonEl.style.display =\n",
              "          google.colab.kernel.accessAllowed ? 'block' : 'none';\n",
              "\n",
              "        async function convertToInteractive(key) {\n",
              "          const element = document.querySelector('#df-b98178ab-397a-4af5-9ca2-a5a40abdf12b');\n",
              "          const dataTable =\n",
              "            await google.colab.kernel.invokeFunction('convertToInteractive',\n",
              "                                                     [key], {});\n",
              "          if (!dataTable) return;\n",
              "\n",
              "          const docLinkHtml = 'Like what you see? Visit the ' +\n",
              "            '<a target=\"_blank\" href=https://colab.research.google.com/notebooks/data_table.ipynb>data table notebook</a>'\n",
              "            + ' to learn more about interactive tables.';\n",
              "          element.innerHTML = '';\n",
              "          dataTable['output_type'] = 'display_data';\n",
              "          await google.colab.output.renderOutput(dataTable, element);\n",
              "          const docLink = document.createElement('div');\n",
              "          docLink.innerHTML = docLinkHtml;\n",
              "          element.appendChild(docLink);\n",
              "        }\n",
              "      </script>\n",
              "    </div>\n",
              "  </div>\n",
              "  "
            ]
          },
          "metadata": {},
          "execution_count": 6
        }
      ]
    } 
  ]
}
