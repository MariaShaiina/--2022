{
  "nbformat": 4,
  "nbformat_minor": 0,
  "metadata": {
    "colab": {
      "provenance": []
    },
    "kernelspec": {
      "name": "python3",
      "display_name": "Python 3"
    },
    "language_info": {
      "name": "python"
    },
    "accelerator": "GPU",
    "gpuClass": "standard"
  },
  "cells": [
    {
      "cell_type": "markdown",
      "source": [
        "## **Лабораторная работа №2**\n",
        "\n",
        "### **Cумма элементов вектора**"
      ],
      "metadata": {
        "id": "xQ0HTt0tiyrb"
      }
    },
    {
      "cell_type": "code",
      "source": [
        "#Импортируем необходимые библиотеки\n",
        "\n",
        "import time\n",
        "import sys\n",
        "import matplotlib.pyplot as plt\n",
        "import numpy as np\n",
        "from numba import cuda, int32\n",
        "from tabulate import tabulate"
      ],
      "metadata": {
        "id": "7X9KgnLxjV-i"
      },
      "execution_count": 12,
      "outputs": []
    },
    {
      "cell_type": "markdown",
      "source": [
        "Задаем количество нитей на блок, количество итераций пересчета вычислений, а так же максимальные и минимальные размеры массивов + шаг увеличения размеров."
      ],
      "metadata": {
        "id": "XBohFWWfyL4q"
      }
    },
    {
      "cell_type": "code",
      "source": [
        "TPB = 16                                                                         # Количество нитей в блоке\n",
        "ITER_COUNT = 8\n",
        "EPS = sys.float_info.epsilon                                                     # Разница между 1,0 и наименьшим значением больше 1,0, который представляется как число с плавающей запятой\n",
        "\n",
        "vec_size_min = 1000\n",
        "vec_size_max = 1000000\n",
        "vec_size_interval = 100000"
      ],
      "metadata": {
        "id": "PAwsNn8Hk9wN"
      },
      "execution_count": 13,
      "outputs": []
    },
    {
      "cell_type": "markdown",
      "source": [
        "Cумма вектора на cpu, просто цикл суммирования элементов массива в переменную."
      ],
      "metadata": {
        "id": "w4cKStM9zjoh"
      }
    },
    {
      "cell_type": "code",
      "source": [
        "def cpu_vec_sun(vec):\n",
        "    result =0\n",
        "    for i in range(vec.shape[0]):\n",
        "      result += vec[i]\n",
        "    return result"
      ],
      "metadata": {
        "id": "XflscQeuzlJ2"
      },
      "execution_count": 14,
      "outputs": []
    },
    {
      "cell_type": "markdown",
      "source": [
        "Функция вычисления суммы вектора на GPU, каждая нить выполняет 1 вычисление, запись в общую переменную res идет через cuda.atomic.add (единовременно выполняется только одной нитью)"
      ],
      "metadata": {
        "id": "5VNApigdzqBV"
      }
    },
    {
      "cell_type": "code",
      "source": [
        "@cuda.jit\n",
        "def gpu_vec_sum(vec, res):\n",
        "    tx = cuda.threadIdx.x\n",
        "    bx = cuda.blockIdx.x\n",
        "    idx = tx + bx * TPB\n",
        "    if idx < vec.shape[0]:\n",
        "      cuda.atomic.add(res, 0, vec[idx]) "
      ],
      "metadata": {
        "id": "OJd90bxCzzBG"
      },
      "execution_count": 15,
      "outputs": []
    },
    {
      "cell_type": "markdown",
      "source": [
        "Делаем вычисления + собираем информацию по времени выполнения обоих функций, далее собранный массив данных используем для графиков времени выполнения на GPU, CPU, а так же для построения графика ускорения.\n",
        "\n"
      ],
      "metadata": {
        "id": "Av6jGmB80G3J"
      }
    },
    {
      "cell_type": "markdown",
      "source": [
        "В данной функции происходит инициализация данных, пересылка данных между хостом и девайсом, замер времени выполнения параллельного суммирования элементов вектора, а также последовательного варианта программы. После выполнения вычисления на GPU результат отправляется обратно на хост."
      ],
      "metadata": {
        "id": "P6bQIETk1S-0"
      }
    },
    {
      "cell_type": "code",
      "source": [
        "def vector_sum():\n",
        "    results = [] \n",
        "    for vec_size in range(vec_size_min, vec_size_max + 1, vec_size_interval):\n",
        "        for _ in range(ITER_COUNT):\n",
        "            # vec = np.random.randint(1000, size=vec_size)\n",
        "            vec = np.ones(vec_size)\n",
        "            gpu_result = np.zeros(1, dtype=np.int32)\n",
        "\n",
        "            device_vec = cuda.to_device(vec)\n",
        "            device_res = cuda.to_device(gpu_result)\n",
        "            gpu_start = time.time() \n",
        "            gpu_vec_sum[int((vec_size + TPB) / TPB), TPB](device_vec, device_res)\n",
        "            gpu_time = time.time() - gpu_start\n",
        "            gpu_result = device_res.copy_to_host()\n",
        "\n",
        "            cpu_start = time.time()\n",
        "            cpu_result = cpu_vec_sun(vec)\n",
        "            cpu_time = time.time() - cpu_start\n",
        "\n",
        "        result = [vec_size, gpu_result[0], cpu_result, cpu_time / ITER_COUNT, gpu_time / ITER_COUNT]\n",
        "        results.append(result)\n",
        "\n",
        "    print(tabulate(results, headers=['vector size', 'resul_gpu', 'resul_cpu', 'cpu, ms', 'gpu, ms']))\n",
        "\n",
        "    vec_sizes = list(map(lambda x: x[0], results))\n",
        "    cpu_times = list(map(lambda x: x[2], results))\n",
        "    gpu_times = list(map(lambda x: x[3], results))\n",
        "    accelerations = list(map(lambda x: x[2] / (x[3] if x[3] > EPS else EPS), results))\n",
        "\n",
        "\n",
        "# Теперь построим графики ускорения на GPU относительно СPU\n",
        "\n",
        "fig, axes = plt.subplots(1, 3, figsize = (18,4))\n",
        "  \n",
        "axes[0].set_title(\"cpu\")\n",
        "axes[0].plot(vec_sizes, cpu_times)\n",
        "axes[0].set_xlabel(\"vector size\")\n",
        "axes[0].set_ylabel(\"time, ms\")\n",
        "axes[0].grid()\n",
        "\n",
        "axes[1].set_title(\"gpu\")\n",
        "axes[1].plot(vec_sizes, gpu_times)\n",
        "axes[1].set_xlabel(\"vector size\")\n",
        "axes[1].set_ylabel(\"time, ms\")\n",
        "axes[1].grid()\n",
        "\n",
        "axes[2].set_title(\"acceleration\")\n",
        "axes[2].set_plot(vec_sizes, accelerations)\n",
        "axes[2].set_xlabel(\"vector size\")\n",
        "axes[2].set_ylabel(\"cpu to gpu time ratio\")\n",
        "axes[2].grid()\n",
        "\n",
        "plt.show()"
      ],
      "metadata": {
        "colab": {
          "base_uri": "https://localhost:8080/",
          "height": 496
        },
        "id": "WlvRaRgc0H3g",
        "outputId": "67afe2a4-6cee-4dad-bf0b-daf9f35cbfa8"
      },
      "execution_count": 22,
      "outputs": [
        {
          "output_type": "error",
          "ename": "NameError",
          "evalue": "ignored",
          "traceback": [
            "\u001b[0;31m---------------------------------------------------------------------------\u001b[0m",
            "\u001b[0;31mNameError\u001b[0m                                 Traceback (most recent call last)",
            "\u001b[0;32m<ipython-input-22-442a6c754841>\u001b[0m in \u001b[0;36m<module>\u001b[0;34m\u001b[0m\n\u001b[1;32m     34\u001b[0m \u001b[0;34m\u001b[0m\u001b[0m\n\u001b[1;32m     35\u001b[0m \u001b[0maxes\u001b[0m\u001b[0;34m[\u001b[0m\u001b[0;36m0\u001b[0m\u001b[0;34m]\u001b[0m\u001b[0;34m.\u001b[0m\u001b[0mset_title\u001b[0m\u001b[0;34m(\u001b[0m\u001b[0;34m\"cpu\"\u001b[0m\u001b[0;34m)\u001b[0m\u001b[0;34m\u001b[0m\u001b[0;34m\u001b[0m\u001b[0m\n\u001b[0;32m---> 36\u001b[0;31m \u001b[0maxes\u001b[0m\u001b[0;34m[\u001b[0m\u001b[0;36m0\u001b[0m\u001b[0;34m]\u001b[0m\u001b[0;34m.\u001b[0m\u001b[0mplot\u001b[0m\u001b[0;34m(\u001b[0m\u001b[0mvec_sizes\u001b[0m\u001b[0;34m,\u001b[0m \u001b[0mcpu_times\u001b[0m\u001b[0;34m)\u001b[0m\u001b[0;34m\u001b[0m\u001b[0;34m\u001b[0m\u001b[0m\n\u001b[0m\u001b[1;32m     37\u001b[0m \u001b[0maxes\u001b[0m\u001b[0;34m[\u001b[0m\u001b[0;36m0\u001b[0m\u001b[0;34m]\u001b[0m\u001b[0;34m.\u001b[0m\u001b[0mset_xlabel\u001b[0m\u001b[0;34m(\u001b[0m\u001b[0;34m\"vector size\"\u001b[0m\u001b[0;34m)\u001b[0m\u001b[0;34m\u001b[0m\u001b[0;34m\u001b[0m\u001b[0m\n\u001b[1;32m     38\u001b[0m \u001b[0maxes\u001b[0m\u001b[0;34m[\u001b[0m\u001b[0;36m0\u001b[0m\u001b[0;34m]\u001b[0m\u001b[0;34m.\u001b[0m\u001b[0mset_ylabel\u001b[0m\u001b[0;34m(\u001b[0m\u001b[0;34m\"time, ms\"\u001b[0m\u001b[0;34m)\u001b[0m\u001b[0;34m\u001b[0m\u001b[0;34m\u001b[0m\u001b[0m\n",
            "\u001b[0;31mNameError\u001b[0m: name 'vec_sizes' is not defined"
          ]
        },
        {
          "output_type": "display_data",
          "data": {
            "text/plain": [
              "<Figure size 1296x288 with 3 Axes>"
            ],
            "image/png": "[encoded data removed]"
          },
          "metadata": {
            "needs_background": "light"
          }
        }
      ]
    }
  ]
}