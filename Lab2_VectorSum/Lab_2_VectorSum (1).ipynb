{
  "nbformat": 4,
  "nbformat_minor": 0,
  "metadata": {
    "colab": {
      "provenance": []
    },
    "kernelspec": {
      "name": "python3",
      "display_name": "Python 3"
    },
    "language_info": {
      "name": "python"
    },
    "accelerator": "GPU",
    "gpuClass": "standard"
  },
  "cells": [
    {
      "cell_type": "markdown",
      "source": [
        "## **Лабораторная работа №2**\n",
        "\n",
        "### **Cумма элементов вектора**"
      ],
      "metadata": {
        "id": "xQ0HTt0tiyrb"
      }
    },
    {
      "cell_type": "code",
      "source": [
        "#Импортируем необходимые библиотеки\n",
        "\n",
        "import time\n",
        "import sys\n",
        "import matplotlib.pyplot as plt\n",
        "import numpy as np\n",
        "from numba import cuda, int32\n",
        "from tabulate import tabulate"
      ],
      "metadata": {
        "id": "7X9KgnLxjV-i"
      },
      "execution_count": 13,
      "outputs": []
    },
    {
      "cell_type": "markdown",
      "source": [
        "Задаем количество нитей на блок, количество итераций пересчета вычислений, а так же максимальные и минимальные размеры массивов + шаг увеличения размеров."
      ],
      "metadata": {
        "id": "XBohFWWfyL4q"
      }
    },
    {
      "cell_type": "code",
      "source": [
        "TPB = 16                                                                         # Количество нитей в блоке\n",
        "ITER_COUNT = 8\n",
        "EPS = sys.float_info.epsilon                                                     # Разница между 1,0 и наименьшим значением больше 1,0, который представляется как число с плавающей запятой\n",
        "\n",
        "vec_size_min = 1000\n",
        "vec_size_max = 1000000\n",
        "vec_size_interval = 100000"
      ],
      "metadata": {
        "id": "PAwsNn8Hk9wN"
      },
      "execution_count": 14,
      "outputs": []
    },
    {
      "cell_type": "markdown",
      "source": [
        "Cумма вектора на cpu, просто цикл суммирования элементов массива в переменную."
      ],
      "metadata": {
        "id": "w4cKStM9zjoh"
      }
    },
    {
      "cell_type": "code",
      "source": [
        "def cpu_vec_sun(vec):\n",
        "    result =0\n",
        "    for i in range(vec.shape[0]):\n",
        "      result += vec[i]\n",
        "    return result"
      ],
      "metadata": {
        "id": "XflscQeuzlJ2"
      },
      "execution_count": 15,
      "outputs": []
    },
    {
      "cell_type": "markdown",
      "source": [
        "Функция вычисления суммы вектора на GPU, каждая нить выполняет 1 вычисление, запись в общую переменную res идет через cuda.atomic.add (единовременно выполняется только одной нитью)"
      ],
      "metadata": {
        "id": "5VNApigdzqBV"
      }
    },
    {
      "cell_type": "code",
      "source": [
        "@cuda.jit\n",
        "def gpu_vec_sum(vec, res):\n",
        "    tx = cuda.threadIdx.x\n",
        "    bx = cuda.blockIdx.x\n",
        "    idx = tx + bx * TPB\n",
        "    if idx < vec.shape[0]:\n",
        "      cuda.atomic.add(res, 0, vec[idx]) "
      ],
      "metadata": {
        "id": "OJd90bxCzzBG"
      },
      "execution_count": 16,
      "outputs": []
    },
    {
      "cell_type": "markdown",
      "source": [
        "Делаем вычисления + собираем информацию по времени выполнения обоих функций, далее собранный массив данных используем для графиков времени выполнения на GPU, CPU, а так же для построения графика ускорения.\n",
        "\n"
      ],
      "metadata": {
        "id": "Av6jGmB80G3J"
      }
    },
    {
      "cell_type": "markdown",
      "source": [
        "В данной функции происходит инициализация данных, пересылка данных между хостом и девайсом, замер времени выполнения параллельного суммирования элементов вектора, а также последовательного варианта программы. После выполнения вычисления на GPU результат отправляется обратно на хост."
      ],
      "metadata": {
        "id": "P6bQIETk1S-0"
      }
    },
    {
      "cell_type": "code",
      "source": [
        "def vector_sum():\n",
        "    results = [] \n",
        "    for vec_size in range(vec_size_min, vec_size_max + 1, vec_size_interval):\n",
        "        for _ in range(ITER_COUNT):\n",
        "            vec = np.random.randint(1000, size=vec_size)\n",
        "            vec = np.ones(vec_size)\n",
        "            gpu_result = np.zeros(1, dtype=np.int32)\n",
        "\n",
        "            device_vec = cuda.to_device(vec)\n",
        "            device_res = cuda.to_device(gpu_result)\n",
        "            gpu_start = time.time() \n",
        "            gpu_vec_sum[int((vec_size + TPB) / TPB), TPB](device_vec, device_res)\n",
        "            gpu_time = time.time() - gpu_start\n",
        "            gpu_result = device_res.copy_to_host()\n",
        "\n",
        "            cpu_start = time.time()\n",
        "            cpu_result = cpu_vec_sun(vec)\n",
        "            cpu_time = time.time() - cpu_start\n",
        "\n",
        "        result = [vec_size, gpu_result[0], cpu_result, cpu_time / ITER_COUNT, gpu_time / ITER_COUNT]\n",
        "        results.append(result)\n",
        "\n",
        "    print(tabulate(results, headers=['vector size', 'resul_gpu', 'resul_cpu', 'cpu, ms', 'gpu, ms']))\n",
        "\n",
        "    vec_sizes = list(map(lambda x: x[0], results))\n",
        "    cpu_times = list(map(lambda x: x[2], results))\n",
        "    gpu_times = list(map(lambda x: x[3], results))\n",
        "    accelerations = list(map(lambda x: x[2] / (x[3] if x[3] > EPS else EPS), results))\n",
        "\n",
        "\n",
        "# Теперь построим графики ускорения на GPU относительно СPU\n",
        "\n",
        "    plt.figure(figsize=(18,4))\n",
        "    plt.subplot(1, 3, 1)\n",
        "    plt.title(\"cpu\")\n",
        "    plt.plot(vec_sizes, cpu_times)\n",
        "    plt.xlabel(\"vector size\")\n",
        "    plt.ylabel(\"time, ms\")\n",
        "    plt.grid()\n",
        "\n",
        "    plt.subplot(1, 3, 2)\n",
        "    plt.title(\"gpu\")\n",
        "    plt.plot(vec_sizes, gpu_times)\n",
        "    plt.xlabel(\"vector size\")\n",
        "    plt.ylabel(\"time, ms\")\n",
        "    plt.grid()\n",
        "\n",
        "    plt.subplot(1, 3, 3)\n",
        "    plt.title(\"acceleration\")\n",
        "    plt.plot(vec_sizes, accelerations)\n",
        "    plt.xlabel(\"vector size\")\n",
        "    plt.ylabel(\"cpu to gpu time ratio\")\n",
        "    plt.grid()\n",
        "\n",
        "    plt.show()\n",
        "     "
      ],
      "metadata": {
        "id": "WlvRaRgc0H3g"
      },
      "execution_count": 17,
      "outputs": []
    },
    {
      "cell_type": "code",
      "source": [
        "vector_sum()"
      ],
      "metadata": {
        "id": "jqRv592GXVs-",
        "outputId": "d1691028-b8ca-4702-ac4d-e6f57a13a52e",
        "colab": {
          "base_uri": "https://localhost:8080/",
          "height": 538
        }
      },
      "execution_count": 18,
      "outputs": [
        {
          "output_type": "stream",
          "name": "stderr",
          "text": [
            "/usr/local/lib/python3.8/dist-packages/numba/cuda/dispatcher.py:488: NumbaPerformanceWarning: Grid size 63 will likely result in GPU under-utilization due to low occupancy.\n",
            "  warn(NumbaPerformanceWarning(msg))\n"
          ]
        },
        {
          "output_type": "stream",
          "name": "stdout",
          "text": [
            "  vector size    resul_gpu    resul_cpu      cpu, ms      gpu, ms\n",
            "-------------  -----------  -----------  -----------  -----------\n",
            "         1000         1000         1000  4.86076e-05  3.51667e-05\n",
            "       101000       101000       101000  0.00503802   3.02792e-05\n",
            "       201000       201000       201000  0.0106756    3.22163e-05\n",
            "       301000       301000       301000  0.0380402    2.92361e-05\n",
            "       401000       401000       401000  0.0246418    2.95043e-05\n",
            "       501000       501000       501000  0.0395699    2.93851e-05\n",
            "       601000       601000       601000  0.0105144    1.99676e-05\n",
            "       701000       701000       701000  0.0125755    2.53618e-05\n",
            "       801000       801000       801000  0.0146591    2.19047e-05\n",
            "       901000       901000       901000  0.0159077    2.03848e-05\n"
          ]
        },
        {
          "output_type": "display_data",
          "data": {
            "text/plain": [
              "<Figure size 1296x288 with 3 Axes>"
            ],
            "image/png": "[encoded data removed]"
          },
          "metadata": {
            "needs_background": "light"
          }
        }
      ]
    }
  ]
}