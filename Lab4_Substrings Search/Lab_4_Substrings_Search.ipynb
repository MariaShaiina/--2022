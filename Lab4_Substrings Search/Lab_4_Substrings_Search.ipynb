{
  "nbformat": 4,
  "nbformat_minor": 0,
  "metadata": {
    "colab": {
      "provenance": [],
      "authorship_tag": "ABX9TyPDz5l+NnwUF4P4vI/YH295",
      "include_colab_link": true
    },
    "kernelspec": {
      "name": "python3",
      "display_name": "Python 3"
    },
    "language_info": {
      "name": "python"
    },
    "accelerator": "GPU",
    "gpuClass": "standard"
  },
  "cells": [
    {
      "cell_type": "markdown",
      "metadata": {
        "id": "view-in-github",
        "colab_type": "text"
      },
      "source": [
        "<a href=\"https://colab.research.google.com/github/MariaShaiina/hpc-2022/blob/main/Lab4_Substrings%20Search/Lab_4_Substrings_Search.ipynb\" target=\"_parent\"><img src=\"https://colab.research.google.com/assets/colab-badge.svg\" alt=\"Open In Colab\"/></a>"
      ]
    },
    {
      "cell_type": "markdown",
      "source": [
        "# 6132 Шаина Мария"
      ],
      "metadata": {
        "id": "F06On31a65gR"
      }
    },
    {
      "cell_type": "markdown",
      "source": [
        "### **Массовый поиск подстрок с использованием CUDA**"
      ],
      "metadata": {
        "id": "1IYheuf58SX7"
      }
    },
    {
      "cell_type": "markdown",
      "source": [
        "Загружаем необходимые библиотеки "
      ],
      "metadata": {
        "id": "1TslIx5u7_-o"
      }
    },
    {
      "cell_type": "code",
      "source": [
        "import numpy as np\n",
        "import pandas as pd\n",
        "from time import time\n",
        "import matplotlib.pyplot as plt\n",
        "from numba import cuda "
      ],
      "metadata": {
        "id": "goR9UdH98JU2"
      },
      "execution_count": 1,
      "outputs": []
    },
    {
      "cell_type": "markdown",
      "source": [
        "Функция поиска подстрок на CPU"
      ],
      "metadata": {
        "id": "c5xiZhP98nnG"
      }
    },
    {
      "cell_type": "code",
      "source": [
        "def mass_search_CPU(N: np.ndarray, H: np.ndarray, R: np.ndarray):\n",
        "  for j in range(R.shape[1]):\n",
        "    for i in range(R.shape[0]):\n",
        "      n = N[i]\n",
        "      for k in range(len(n)):\n",
        "        if n[k] == H[j]:\n",
        "          R[i, j - k] -= 1\n",
        "  return R"
      ],
      "metadata": {
        "id": "qKPhxISw8rz6"
      },
      "execution_count": 2,
      "outputs": []
    },
    {
      "cell_type": "markdown",
      "source": [
        "Функция поиска подстрок на GPU"
      ],
      "metadata": {
        "id": "KUdq_lvG8z_R"
      }
    },
    {
      "cell_type": "code",
      "source": [
        "@cuda.jit\n",
        "def mass_search_GPU(N: np.ndarray, H: np.ndarray, R: np.ndarray):\n",
        "\t# Получение асболютного значения индекса потока в сетке\n",
        "\tx, y = cuda.grid(2)\n",
        "\t# Рассматриваем каждый символ подстроки\n",
        "\tn = N[y]\n",
        "\tfor k in range(len(n)):\n",
        "\t\t# Декремент, если символ подстроки совпал с символом входного буффера\n",
        "\t\tif n[k] == H[x]:\n",
        "\t\t\tR[y, x - k] -= 1\n",
        "\tcuda.syncthreads()"
      ],
      "metadata": {
        "id": "zGkU-wJZ83B3"
      },
      "execution_count": 3,
      "outputs": []
    },
    {
      "cell_type": "markdown",
      "source": [
        "Запись входных данных (N и H) в файл"
      ],
      "metadata": {
        "id": "cbS_sbgi86tT"
      }
    },
    {
      "cell_type": "code",
      "source": [
        "def save_input(pathfile: str, N: np.ndarray, H: np.ndarray, mode='a', sheet_name=''):\n",
        "\n",
        "  # Приведение списка символов (подстроки) к типу str\n",
        "  # для корректной записи в excel\n",
        "  new_N = [str(n) for n in N]\n",
        "  \n",
        "  # Создание DataFrame\n",
        "  df = pd.DataFrame({\"N\": new_N, \"H\": H})\n",
        "  \n",
        "  # Если стоит mode='a', то первая запись в файл выдаст ошибку,\n",
        "  # поэтому в этом случае mode меняется на 'w'.\n",
        "  try:\n",
        "    with pd.ExcelWriter(pathfile, mode=mode) as writer:\n",
        "      df.to_excel(writer, sheet_name=sheet_name)\n",
        "  except:\n",
        "    with pd.ExcelWriter(pathfile, mode='w') as writer:\n",
        "      df.to_excel(writer, sheet_name=sheet_name)"
      ],
      "metadata": {
        "id": "rThQ_Vza8544"
      },
      "execution_count": 4,
      "outputs": []
    },
    {
      "cell_type": "markdown",
      "source": [
        "Запись рабочей матрицы R в файл"
      ],
      "metadata": {
        "id": "PUiHOb-S9DJa"
      }
    },
    {
      "cell_type": "code",
      "source": [
        "def save_R(pathfile: str, result: np.ndarray, mode='a'):\n",
        "\n",
        "  df = pd.DataFrame(result)\n",
        "\n",
        "  sheet_name = str(len(N))\n",
        "  \n",
        "  try:\n",
        "    with pd.ExcelWriter(pathfile, mode=mode) as writer:\n",
        "      df.to_excel(writer, sheet_name=sheet_name)\n",
        "  except:\n",
        "    with pd.ExcelWriter(pathfile, mode='w') as writer:\n",
        "      df.to_excel(writer, sheet_name=sheet_name)\n"
      ],
      "metadata": {
        "id": "S-0tyMaX9DYl"
      },
      "execution_count": 5,
      "outputs": []
    },
    {
      "cell_type": "markdown",
      "source": [
        "Вычисления на CPU и GPU i раз для усреднения времени"
      ],
      "metadata": {
        "id": "GI3PBkjm9LGK"
      }
    },
    {
      "cell_type": "code",
      "source": [
        "sizes = np.arange(160, 1600, 160) # Размерности N и H\n",
        "i = 8                             # Кол-во итераций для подсчёта среднего времени\n",
        "N_chars = 2                       # Кол-во символов в подстроках\n",
        "BLOCK_DIM = 32                    # Размерность оси квадратного блока\n",
        "BLOCK_SIZE = (BLOCK_DIM, BLOCK_DIM)\n",
        "\n",
        "alp = np.arange(256)\n",
        "\n",
        "df = {\"Время на GPU\":np.zeros(len(sizes), dtype=float), \n",
        "      \"Время на CPU\":np.zeros(len(sizes), dtype=float),\n",
        "      \"Ускорения\":np.zeros(len(sizes), dtype=float),\n",
        "      \"Одинаковые ли значения?\":np.full(len(sizes), fill_value=True)}\n",
        "\n",
        "df = pd.DataFrame(df, index=sizes)\n",
        "\n",
        "# Вычисления для разных размерностей N и H\n",
        "for size in sizes:\n",
        "\n",
        "  # Случайная генерация подстрок N и входного буффера H\n",
        "  N = np.random.randint(len(alp), size=(size, N_chars), dtype=np.uint8)\n",
        "  H = np.random.randint(len(alp), size=size, dtype=np.uint8)\n",
        "\n",
        "  # Заполнение рабочей матрицы NxH значениями N_chars\n",
        "  R = np.full((size, size), fill_value=N_chars)\n",
        "  # R = np.zeros((size, size), dtype = int)\n",
        "\n",
        "  # Инициализация сетки блоков\n",
        "  GRID_SIZE = ((len(N) + BLOCK_DIM - 1) // BLOCK_DIM , (len(H) + BLOCK_DIM - 1) // BLOCK_DIM)\n",
        "\n",
        "  # Суммы общего времени за определённое кол-во итераций для реализации\n",
        "  gpu_common_time = []\n",
        "  cpu_common_time = []\n",
        "\n",
        "  # Выполнение одних и тех же вычислений для нахождения среднего времени\n",
        "  for _ in range (i + 1):\n",
        "\n",
        "    #Вычисление времени на GPU\n",
        "    start_time = time()\n",
        "    \n",
        "    # Пересылка данных на устройство\n",
        "    dev_N = cuda.to_device(N)\n",
        "    dev_H = cuda.to_device(H)\n",
        "    dev_R = cuda.to_device(R)\n",
        "    \n",
        "    # Запуск вычислений на GPU\n",
        "    mass_search_GPU[GRID_SIZE, BLOCK_SIZE](dev_N, dev_H, dev_R)\n",
        "\n",
        "    # Копирование рабочей матрицы с устройства на хост\n",
        "    host_R = dev_R.copy_to_host()\n",
        "    gpu_common_time.append(time() - start_time)\n",
        "\n",
        "    #Вычисление времени на CPU\n",
        "    start_time = time()\n",
        "    R = mass_search_CPU(N, H, R.copy())\n",
        "    cpu_common_time.append(time() - start_time)\n",
        "\n",
        "    if _ == 0:\n",
        "      save_R(\"R_GPU.xlsx\", host_R)\n",
        "      save_R(\"R_CPU.xlsx\", R)\n",
        "  \n",
        "  # Запись подсчётов времени и соответствия рабочих матриц\n",
        "  df.loc[size, \"Время на GPU\"] = np.mean(gpu_common_time[0:])\n",
        "  df.loc[size, \"Время на CPU\"] = np.mean(cpu_common_time[0:])\n",
        "  df.loc[size, \"Одинаковые ли значения?\"] = np.array_equal(host_R, R)\n",
        "\n",
        "\n",
        "  # Сохранение входных данных в файл с несколькими листами\n",
        "  save_input(\"input_data.xlsx\", N, H, sheet_name=f'Размер {size}')\n",
        "\n",
        "# Запись значений ускорения GPU над CPU\n",
        "df[\"Ускорение\"] = df[\"Время на CPU\"] / df[\"Время на GPU\"]\n",
        "df"
      ],
      "metadata": {
        "id": "wsH_5FgW9Lgr",
        "colab": {
          "base_uri": "https://localhost:8080/",
          "height": 328
        },
        "outputId": "d1f2955e-6316-49a0-9b80-61696bf081b0"
      },
      "execution_count": 8,
      "outputs": [
        {
          "output_type": "execute_result",
          "data": {
            "text/plain": [
              "      Время на GPU  Время на CPU  Ускорения  Одинаковые ли значения?  \\\n",
              "160       0.001445      0.020859        0.0                     True   \n",
              "320       0.001920      0.084981        0.0                     True   \n",
              "480       0.002675      0.192197        0.0                     True   \n",
              "640       0.003087      0.337559        0.0                     True   \n",
              "800       0.004073      0.530911        0.0                     True   \n",
              "960       0.004953      0.772180        0.0                     True   \n",
              "1120      0.005990      1.043399        0.0                     True   \n",
              "1280      0.007216      1.372665        0.0                     True   \n",
              "1440      0.008819      1.744825        0.0                     True   \n",
              "\n",
              "       Ускорение  \n",
              "160    14.431525  \n",
              "320    44.253359  \n",
              "480    71.852160  \n",
              "640   109.331097  \n",
              "800   130.358718  \n",
              "960   155.901038  \n",
              "1120  174.186972  \n",
              "1280  190.215279  \n",
              "1440  197.855612  "
            ],
            "text/html": [
              "\n",
              "  <div id=\"df-180c4d44-c848-4efc-97a4-95f5c71fdae7\">\n",
              "    <div class=\"colab-df-container\">\n",
              "      <div>\n",
              "<style scoped>\n",
              "    .dataframe tbody tr th:only-of-type {\n",
              "        vertical-align: middle;\n",
              "    }\n",
              "\n",
              "    .dataframe tbody tr th {\n",
              "        vertical-align: top;\n",
              "    }\n",
              "\n",
              "    .dataframe thead th {\n",
              "        text-align: right;\n",
              "    }\n",
              "</style>\n",
              "<table border=\"1\" class=\"dataframe\">\n",
              "  <thead>\n",
              "    <tr style=\"text-align: right;\">\n",
              "      <th></th>\n",
              "      <th>Время на GPU</th>\n",
              "      <th>Время на CPU</th>\n",
              "      <th>Ускорения</th>\n",
              "      <th>Одинаковые ли значения?</th>\n",
              "      <th>Ускорение</th>\n",
              "    </tr>\n",
              "  </thead>\n",
              "  <tbody>\n",
              "    <tr>\n",
              "      <th>160</th>\n",
              "      <td>0.001445</td>\n",
              "      <td>0.020859</td>\n",
              "      <td>0.0</td>\n",
              "      <td>True</td>\n",
              "      <td>14.431525</td>\n",
              "    </tr>\n",
              "    <tr>\n",
              "      <th>320</th>\n",
              "      <td>0.001920</td>\n",
              "      <td>0.084981</td>\n",
              "      <td>0.0</td>\n",
              "      <td>True</td>\n",
              "      <td>44.253359</td>\n",
              "    </tr>\n",
              "    <tr>\n",
              "      <th>480</th>\n",
              "      <td>0.002675</td>\n",
              "      <td>0.192197</td>\n",
              "      <td>0.0</td>\n",
              "      <td>True</td>\n",
              "      <td>71.852160</td>\n",
              "    </tr>\n",
              "    <tr>\n",
              "      <th>640</th>\n",
              "      <td>0.003087</td>\n",
              "      <td>0.337559</td>\n",
              "      <td>0.0</td>\n",
              "      <td>True</td>\n",
              "      <td>109.331097</td>\n",
              "    </tr>\n",
              "    <tr>\n",
              "      <th>800</th>\n",
              "      <td>0.004073</td>\n",
              "      <td>0.530911</td>\n",
              "      <td>0.0</td>\n",
              "      <td>True</td>\n",
              "      <td>130.358718</td>\n",
              "    </tr>\n",
              "    <tr>\n",
              "      <th>960</th>\n",
              "      <td>0.004953</td>\n",
              "      <td>0.772180</td>\n",
              "      <td>0.0</td>\n",
              "      <td>True</td>\n",
              "      <td>155.901038</td>\n",
              "    </tr>\n",
              "    <tr>\n",
              "      <th>1120</th>\n",
              "      <td>0.005990</td>\n",
              "      <td>1.043399</td>\n",
              "      <td>0.0</td>\n",
              "      <td>True</td>\n",
              "      <td>174.186972</td>\n",
              "    </tr>\n",
              "    <tr>\n",
              "      <th>1280</th>\n",
              "      <td>0.007216</td>\n",
              "      <td>1.372665</td>\n",
              "      <td>0.0</td>\n",
              "      <td>True</td>\n",
              "      <td>190.215279</td>\n",
              "    </tr>\n",
              "    <tr>\n",
              "      <th>1440</th>\n",
              "      <td>0.008819</td>\n",
              "      <td>1.744825</td>\n",
              "      <td>0.0</td>\n",
              "      <td>True</td>\n",
              "      <td>197.855612</td>\n",
              "    </tr>\n",
              "  </tbody>\n",
              "</table>\n",
              "</div>\n",
              "      <button class=\"colab-df-convert\" onclick=\"convertToInteractive('df-180c4d44-c848-4efc-97a4-95f5c71fdae7')\"\n",
              "              title=\"Convert this dataframe to an interactive table.\"\n",
              "              style=\"display:none;\">\n",
              "        \n",
              "  <svg xmlns=\"http://www.w3.org/2000/svg\" height=\"24px\"viewBox=\"0 0 24 24\"\n",
              "       width=\"24px\">\n",
              "    <path d=\"M0 0h24v24H0V0z\" fill=\"none\"/>\n",
              "    <path d=\"M18.56 5.44l.94 2.06.94-2.06 2.06-.94-2.06-.94-.94-2.06-.94 2.06-2.06.94zm-11 1L8.5 8.5l.94-2.06 2.06-.94-2.06-.94L8.5 2.5l-.94 2.06-2.06.94zm10 10l.94 2.06.94-2.06 2.06-.94-2.06-.94-.94-2.06-.94 2.06-2.06.94z\"/><path d=\"M17.41 7.96l-1.37-1.37c-.4-.4-.92-.59-1.43-.59-.52 0-1.04.2-1.43.59L10.3 9.45l-7.72 7.72c-.78.78-.78 2.05 0 2.83L4 21.41c.39.39.9.59 1.41.59.51 0 1.02-.2 1.41-.59l7.78-7.78 2.81-2.81c.8-.78.8-2.07 0-2.86zM5.41 20L4 18.59l7.72-7.72 1.47 1.35L5.41 20z\"/>\n",
              "  </svg>\n",
              "      </button>\n",
              "      \n",
              "  <style>\n",
              "    .colab-df-container {\n",
              "      display:flex;\n",
              "      flex-wrap:wrap;\n",
              "      gap: 12px;\n",
              "    }\n",
              "\n",
              "    .colab-df-convert {\n",
              "      background-color: #E8F0FE;\n",
              "      border: none;\n",
              "      border-radius: 50%;\n",
              "      cursor: pointer;\n",
              "      display: none;\n",
              "      fill: #1967D2;\n",
              "      height: 32px;\n",
              "      padding: 0 0 0 0;\n",
              "      width: 32px;\n",
              "    }\n",
              "\n",
              "    .colab-df-convert:hover {\n",
              "      background-color: #E2EBFA;\n",
              "      box-shadow: 0px 1px 2px rgba(60, 64, 67, 0.3), 0px 1px 3px 1px rgba(60, 64, 67, 0.15);\n",
              "      fill: #174EA6;\n",
              "    }\n",
              "\n",
              "    [theme=dark] .colab-df-convert {\n",
              "      background-color: #3B4455;\n",
              "      fill: #D2E3FC;\n",
              "    }\n",
              "\n",
              "    [theme=dark] .colab-df-convert:hover {\n",
              "      background-color: #434B5C;\n",
              "      box-shadow: 0px 1px 3px 1px rgba(0, 0, 0, 0.15);\n",
              "      filter: drop-shadow(0px 1px 2px rgba(0, 0, 0, 0.3));\n",
              "      fill: #FFFFFF;\n",
              "    }\n",
              "  </style>\n",
              "\n",
              "      <script>\n",
              "        const buttonEl =\n",
              "          document.querySelector('#df-180c4d44-c848-4efc-97a4-95f5c71fdae7 button.colab-df-convert');\n",
              "        buttonEl.style.display =\n",
              "          google.colab.kernel.accessAllowed ? 'block' : 'none';\n",
              "\n",
              "        async function convertToInteractive(key) {\n",
              "          const element = document.querySelector('#df-180c4d44-c848-4efc-97a4-95f5c71fdae7');\n",
              "          const dataTable =\n",
              "            await google.colab.kernel.invokeFunction('convertToInteractive',\n",
              "                                                     [key], {});\n",
              "          if (!dataTable) return;\n",
              "\n",
              "          const docLinkHtml = 'Like what you see? Visit the ' +\n",
              "            '<a target=\"_blank\" href=https://colab.research.google.com/notebooks/data_table.ipynb>data table notebook</a>'\n",
              "            + ' to learn more about interactive tables.';\n",
              "          element.innerHTML = '';\n",
              "          dataTable['output_type'] = 'display_data';\n",
              "          await google.colab.output.renderOutput(dataTable, element);\n",
              "          const docLink = document.createElement('div');\n",
              "          docLink.innerHTML = docLinkHtml;\n",
              "          element.appendChild(docLink);\n",
              "        }\n",
              "      </script>\n",
              "    </div>\n",
              "  </div>\n",
              "  "
            ]
          },
          "metadata": {},
          "execution_count": 8
        }
      ]
    }
  ]
}