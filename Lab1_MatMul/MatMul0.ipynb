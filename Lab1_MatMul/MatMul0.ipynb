{
  "nbformat": 4,
  "nbformat_minor": 0,
  "metadata": {
    "colab": {
      "provenance": []
    },
    "kernelspec": {
      "name": "python3",
      "display_name": "Python 3"
    },
    "language_info": {
      "name": "python"
    },
    "gpuClass": "standard",
    "accelerator": "GPU"
  },
  "cells": [
    {
      "cell_type": "code",
      "execution_count": 1,
      "metadata": {
        "id": "3KgfzKXysFUg"
      },
      "outputs": [],
      "source": [
        "#%tensorflow_version has no effect. 2.x\n",
        "import tensorflow as tf\n",
        "device_name = tf.test.gpu_device_name()\n",
        "if device_name !='/device:GPU:0':\n",
        "  raise SystemError('GPU device not found')\n",
        "  print ('Found GPU at: {}'.format(device_name))"
      ]
    },
    {
      "cell_type": "markdown",
      "source": [
        "\n",
        "Для разработки программы предлагается использование языка Python с JIT-компилятором Numba и дополнительным модулем **numba.cuda** для параллельных вычислений на GPU\n"
      ],
      "metadata": {
        "id": "a61aiDwj-mYm"
      }
    },
    {
      "cell_type": "code",
      "source": [
        "# Импортируем необходимые библиотеки и модули \n",
        "\n",
        "import numpy as np \n",
        "import time\n",
        "from numba import cuda  # Библиотека Nvidia для работы с GPU\n",
        "import math\n",
        "\n",
        "import matplotlib.pyplot as plt"
      ],
      "metadata": {
        "id": "JPSVAmEZ6qZl"
      },
      "execution_count": 2,
      "outputs": []
    },
    {
      "cell_type": "markdown",
      "source": [
        "Inicialisation of matrixes for CPU"
      ],
      "metadata": {
        "id": "t0RUtnaoENrL"
      }
    },
    {
      "cell_type": "code",
      "source": [
        "matrix_size = 512\n",
        "\n",
        "cpu_first_matrix = np.random.randint(0, 5, (matrix_size, matrix_size))                          #np.random.randint(low, high, (row size, column size))\n",
        "cpu_second_matrix = np.random.randint(0, 5, (matrix_size, matrix_size))\n",
        "cpu_result_matrix = np.zeros((matrix_size, matrix_size), dtype=int)"
      ],
      "metadata": {
        "id": "ondMSLi9lW7E"
      },
      "execution_count": 3,
      "outputs": []
    },
    {
      "cell_type": "markdown",
      "source": [
        "Inicialisation of matrixes for GPU"
      ],
      "metadata": {
        "id": "89KywbUE7J2o"
      }
    },
    {
      "cell_type": "code",
      "source": [
        "# Перенос с хоста на устройство\n",
        "\n",
        "gpu_first_matrix = cuda.to_device(cpu_first_matrix)\n",
        "gpu_second_matrix = cuda.to_device(cpu_second_matrix)\n",
        "gpu_result_matrix = cuda.device_array((len(cpu_first_matrix), len(cpu_second_matrix)))"
      ],
      "metadata": {
        "id": "i1iKTuJk0uSd"
      },
      "execution_count": 4,
      "outputs": []
    },
    {
      "cell_type": "code",
      "source": [
        "# Перемножение матриц на CPU\n",
        "def cpu_matmul(cpu_first_matrix, cpu_second_matrix, cpu_result_matrix):\n",
        "    for i in range(matrix_size):\n",
        "        for j in range(matrix_size):\n",
        "            result = 0\n",
        "            for k in range(matrix_size):\n",
        "                result += cpu_first_matrix[i, k] * cpu_second_matrix[k, j]\n",
        "            cpu_result_matrix[i, j] = result\n",
        "\n",
        "\n",
        "\n",
        "#Перемножение матриц на GPU\n",
        "@cuda.jit                                                                        #Динамический компилятор Cuda \n",
        "def gpu_matmul(gpu_first_matrix, gpu_second_matrix, gpu_result_matrix):\n",
        "    for i in range(matrix_size):\n",
        "        for j in range(matrix_size):\n",
        "            result = 0\n",
        "            for k in range(matrix_size):\n",
        "                result += gpu_first_matrix[i, k] * gpu_second_matrix[k, j]\n",
        "            gpu_result_matrix[i, j] = result\n",
        "\n",
        "\n",
        "\n",
        "def cpu_and_gpu_calc():\n",
        "    # Количество нитей в блоке\n",
        "    threads_per_block = (32, 32)\n",
        "\n",
        "     # Количество блоков на сетку (сетка двумерная, т.к. массив двумерный)\n",
        "    blocks_per_grid_x = int(math.ceil(cpu_first_matrix.shape[0] / threads_per_block[0]))                                   # shape[0] then it will gave you the number of rows\n",
        "    blocks_per_grid_y = int(math.ceil(cpu_second_matrix.shape[1] / threads_per_block[1]))\n",
        "    blocks_per_grid = (blocks_per_grid_x, blocks_per_grid_y)\n",
        "    print(\"Размер сетки = \", blocks_per_grid, threads_per_block)\n",
        "\n",
        "\n",
        "    print(\"CPU старт\")\n",
        "    start_time = time.time()\n",
        "    cpu_matmul(cpu_first_matrix, cpu_second_matrix, cpu_result_matrix)\n",
        "    stop_time = time.time()\n",
        "    print(\"CPU стоп,  потрачено  %s секунд\" % (stop_time - start_time))\n",
        "\n",
        "    print(\"GPU старт\")\n",
        "    start_time = time.time()\n",
        "    gpu_matmul[blocks_per_grid, threads_per_block](gpu_first_matrix, gpu_second_matrix, gpu_result_matrix)\n",
        "    stop_time = time.time()\n",
        "    print(\"GPU стоп,  потрачено  %s секунд\" % (stop_time - start_time))"
      ],
      "metadata": {
        "id": "v3ORYwMR-Q01"
      },
      "execution_count": 5,
      "outputs": []
    },
    {
      "cell_type": "code",
      "source": [
        "if __name__ == \"__main__\":\n",
        "    cpu_and_gpu_calc()"
      ],
      "metadata": {
        "colab": {
          "base_uri": "https://localhost:8080/"
        },
        "id": "rPTkj2-SFMZK",
        "outputId": "0748aa4a-6b49-4d02-8425-67cd84756776"
      },
      "execution_count": 6,
      "outputs": [
        {
          "output_type": "stream",
          "name": "stdout",
          "text": [
            "Размер сетки =  (16, 16) (32, 32)\n",
            "CPU старт\n",
            "CPU стоп,  потрачено  56.15344595909119 секунд\n",
            "GPU старт\n",
            "GPU стоп,  потрачено  0.4952216148376465 секунд\n"
          ]
        }
      ]
    },
    {
      "cell_type": "code",
      "source": [
        "fig, axes = plt.subplots(1, 2, figsize = (16, 4))\n",
        "\n",
        "axes[0].set_title('Ускорение GPU относительно CPU')\n",
        "axes[0].set_xlabel('Размерность матрицы')\n",
        "axes[0].set_ylabel('Ускорение, сек')\n",
        "x = np.array([64, 128, 256, 512, 1024])\n",
        "cpu_cal_with_8_threads = np.array([0.20825, 1.08374, 6.07935, 65.99765, 514.44881])\n",
        "gpu_cal_with_8_threads = np.array([1.89056, 0.31251, 0.18178, 0.80997, 0.48972])\n",
        "axes[0].plot(x, cpu_cal_with_8_threads/gpu_cal_with_8_threads)                                                          \n",
        "axes[0].grid()\n",
        "\n",
        "axes[1].set_title('Ускорение GPU относительно CPU')\n",
        "axes[1].set_xlabel('Размерность матрицы')\n",
        "axes[1].set_ylabel('Ускорение, сек')\n",
        "x = np.array([64, 128, 256, 512, 1024])\n",
        "cpu_cal_with_32_threads = np.array([0.11322, 0.77603, 7.69036, 56.53427, 472.53074])\n",
        "gpu_cal_with_32_threads = np.array([0.17093, 0.18270, 0.17323, 0.17511, 0.54704])\n",
        "axes[1].plot(x, cpu_cal_with_32_threads/gpu_cal_with_32_threads)                                                          \n",
        "axes[1].grid()\n",
        "\n",
        "plt.show()"
      ],
      "metadata": {
        "colab": {
          "base_uri": "https://localhost:8080/",
          "height": 295
        },
        "id": "5Zg0UYvAHWUX",
        "outputId": "cd3809e8-6a99-4212-cf84-076867d814b5"
      },
      "execution_count": 7,
      "outputs": [
        {
          "output_type": "display_data",
          "data": {
            "text/plain": [
              "<Figure size 1152x288 with 2 Axes>"
            ],
            "image/png": "[encoded data removed]"
          },
          "metadata": {
            "needs_background": "light"
          }
        }
      ]
    }
  ]
}